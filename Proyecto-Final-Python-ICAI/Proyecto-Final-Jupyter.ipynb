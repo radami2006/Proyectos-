{
 "cells": [
  {
   "cell_type": "markdown",
   "id": "16417000",
   "metadata": {
    "editable": true,
    "slideshow": {
     "slide_type": ""
    },
    "tags": []
   },
   "source": [
    "# Proyecto - Introducción a la Programación - 2024\n",
    "## Nombre alumnos: Daniel Maestre López\n",
    "## Curso: 1 GITT B"
   ]
  },
  {
   "cell_type": "code",
   "execution_count": 2,
   "id": "08db3eac-0cff-4fc8-861c-bbb101ab13ff",
   "metadata": {
    "editable": true,
    "slideshow": {
     "slide_type": ""
    },
    "tags": []
   },
   "outputs": [
    {
     "name": "stdout",
     "output_type": "stream",
     "text": [
      "\n",
      "========================================\n",
      "====     COMILLAS FINANCE S.L.     ====\n",
      "========================================\n",
      "1. Dar de alta clientes\n",
      "2. Cambiar password\n",
      "3. Consultar un cliente\n",
      "4. Operar\n",
      "5. Salvar/Carga diccionario a/de fichero\n",
      "6. Pintar gráfica balances\n",
      "7. Salir\n",
      "\n"
     ]
    },
    {
     "name": "stdout",
     "output_type": "stream",
     "text": [
      "Intro opción: ( 1 / 2 / 3 / 4 / 5 / 6 / 7) 1\n"
     ]
    },
    {
     "name": "stdout",
     "output_type": "stream",
     "text": [
      "\n"
     ]
    },
    {
     "name": "stdout",
     "output_type": "stream",
     "text": [
      "Introduce el ID que quieres insertar 1\n",
      "Introduzca el nombre del cliente: Daniel\n",
      "Introduzca el saldo del cliente: 10000\n"
     ]
    },
    {
     "name": "stdout",
     "output_type": "stream",
     "text": [
      "Intento 1 de 3\n"
     ]
    },
    {
     "name": "stdout",
     "output_type": "stream",
     "text": [
      "Introduzca una contraseña: AAAAAa1/\n"
     ]
    },
    {
     "name": "stdout",
     "output_type": "stream",
     "text": [
      "Requisito minúscula OK\n",
      "Requisito mayúscula OK\n",
      "Requisito número OK\n",
      "Requisito símbolo OK\n",
      "\n",
      "========================================\n",
      "====     COMILLAS FINANCE S.L.     ====\n",
      "========================================\n",
      "1. Dar de alta clientes\n",
      "2. Cambiar password\n",
      "3. Consultar un cliente\n",
      "4. Operar\n",
      "5. Salvar/Carga diccionario a/de fichero\n",
      "6. Pintar gráfica balances\n",
      "7. Salir\n",
      "\n"
     ]
    },
    {
     "name": "stdout",
     "output_type": "stream",
     "text": [
      "Intro opción: ( 1 / 2 / 3 / 4 / 5 / 6 / 7) 1\n"
     ]
    },
    {
     "name": "stdout",
     "output_type": "stream",
     "text": [
      "\n"
     ]
    },
    {
     "name": "stdout",
     "output_type": "stream",
     "text": [
      "Introduce el ID que quieres insertar 2\n",
      "Introduzca el nombre del cliente: Paco\n",
      "Introduzca el saldo del cliente: 2000\n"
     ]
    },
    {
     "name": "stdout",
     "output_type": "stream",
     "text": [
      "Intento 1 de 3\n"
     ]
    },
    {
     "name": "stdout",
     "output_type": "stream",
     "text": [
      "Introduzca una contraseña: \n"
     ]
    },
    {
     "name": "stdout",
     "output_type": "stream",
     "text": [
      "La contraseña debe tener 8 caracteres, la tuya tiene 0\n",
      "Requisito minúscula KO\n",
      "Requisito maysúcula KO\n",
      "Requisito número KO\n",
      "Requisito símbolo KO\n",
      "Intento 1 de 3\n"
     ]
    },
    {
     "name": "stdout",
     "output_type": "stream",
     "text": [
      "Introduzca una contraseña: \n"
     ]
    },
    {
     "name": "stdout",
     "output_type": "stream",
     "text": [
      "La contraseña debe tener 8 caracteres, la tuya tiene 0\n",
      "Requisito minúscula KO\n",
      "Requisito maysúcula KO\n",
      "Requisito número KO\n",
      "Requisito símbolo KO\n",
      "Intento 2 de 3\n"
     ]
    },
    {
     "name": "stdout",
     "output_type": "stream",
     "text": [
      "Introduzca una contraseña: \n"
     ]
    },
    {
     "name": "stdout",
     "output_type": "stream",
     "text": [
      "La contraseña debe tener 8 caracteres, la tuya tiene 0\n",
      "Requisito minúscula KO\n",
      "Requisito maysúcula KO\n",
      "Requisito número KO\n",
      "Requisito símbolo KO\n",
      "Intento 3 de 3\n",
      "Vamos a generar una password automática. Posteriormente podrás cambiarla\n",
      "Esta es tu nueva password: !b2cUW2%\n",
      "Requisito minúscula OK\n",
      "Requisito mayúscula OK\n",
      "Requisito número OK\n",
      "Requisito símbolo OK\n",
      "\n",
      "========================================\n",
      "====     COMILLAS FINANCE S.L.     ====\n",
      "========================================\n",
      "1. Dar de alta clientes\n",
      "2. Cambiar password\n",
      "3. Consultar un cliente\n",
      "4. Operar\n",
      "5. Salvar/Carga diccionario a/de fichero\n",
      "6. Pintar gráfica balances\n",
      "7. Salir\n",
      "\n"
     ]
    },
    {
     "name": "stdout",
     "output_type": "stream",
     "text": [
      "Intro opción: ( 1 / 2 / 3 / 4 / 5 / 6 / 7) \n"
     ]
    },
    {
     "name": "stdout",
     "output_type": "stream",
     "text": [
      "Esa opción no existe\n"
     ]
    },
    {
     "name": "stdout",
     "output_type": "stream",
     "text": [
      "Intro opción: ( 1 / 2 / 3 / 4 / 5 / 6 / 7) 2\n"
     ]
    },
    {
     "name": "stdout",
     "output_type": "stream",
     "text": [
      "\n"
     ]
    },
    {
     "name": "stdout",
     "output_type": "stream",
     "text": [
      "Introduce el ID al que le quieres cambiar el password 2\n",
      "Introduzca el PIN 9167\n"
     ]
    },
    {
     "name": "stdout",
     "output_type": "stream",
     "text": [
      "ERROR: PIN incorrecto,\n",
      " Cancelando operación\n",
      "\n",
      "========================================\n",
      "====     COMILLAS FINANCE S.L.     ====\n",
      "========================================\n",
      "1. Dar de alta clientes\n",
      "2. Cambiar password\n",
      "3. Consultar un cliente\n",
      "4. Operar\n",
      "5. Salvar/Carga diccionario a/de fichero\n",
      "6. Pintar gráfica balances\n",
      "7. Salir\n",
      "\n"
     ]
    },
    {
     "name": "stdout",
     "output_type": "stream",
     "text": [
      "Intro opción: ( 1 / 2 / 3 / 4 / 5 / 6 / 7) 2\n"
     ]
    },
    {
     "name": "stdout",
     "output_type": "stream",
     "text": [
      "\n"
     ]
    },
    {
     "name": "stdout",
     "output_type": "stream",
     "text": [
      "Introduce el ID al que le quieres cambiar el password 2\n",
      "Introduzca el PIN 2521\n"
     ]
    },
    {
     "name": "stdout",
     "output_type": "stream",
     "text": [
      "ERROR: PIN incorrecto,\n",
      " Cancelando operación\n",
      "\n",
      "========================================\n",
      "====     COMILLAS FINANCE S.L.     ====\n",
      "========================================\n",
      "1. Dar de alta clientes\n",
      "2. Cambiar password\n",
      "3. Consultar un cliente\n",
      "4. Operar\n",
      "5. Salvar/Carga diccionario a/de fichero\n",
      "6. Pintar gráfica balances\n",
      "7. Salir\n",
      "\n"
     ]
    },
    {
     "name": "stdout",
     "output_type": "stream",
     "text": [
      "Intro opción: ( 1 / 2 / 3 / 4 / 5 / 6 / 7) 2\n"
     ]
    },
    {
     "name": "stdout",
     "output_type": "stream",
     "text": [
      "\n"
     ]
    },
    {
     "name": "stdout",
     "output_type": "stream",
     "text": [
      "Introduce el ID al que le quieres cambiar el password 2\n",
      "Introduzca el PIN 9589\n"
     ]
    },
    {
     "name": "stdout",
     "output_type": "stream",
     "text": [
      "PIN OK\n"
     ]
    },
    {
     "name": "stdout",
     "output_type": "stream",
     "text": [
      "Introduzca su nueva password AAAAAa1/\n"
     ]
    },
    {
     "name": "stdout",
     "output_type": "stream",
     "text": [
      "Requisito minúscula OK\n",
      "Requisito mayúscula OK\n",
      "Requisito número OK\n",
      "Requisito símbolo OK\n",
      "\n",
      "========================================\n",
      "====     COMILLAS FINANCE S.L.     ====\n",
      "========================================\n",
      "1. Dar de alta clientes\n",
      "2. Cambiar password\n",
      "3. Consultar un cliente\n",
      "4. Operar\n",
      "5. Salvar/Carga diccionario a/de fichero\n",
      "6. Pintar gráfica balances\n",
      "7. Salir\n",
      "\n"
     ]
    },
    {
     "name": "stdout",
     "output_type": "stream",
     "text": [
      "Intro opción: ( 1 / 2 / 3 / 4 / 5 / 6 / 7) 3\n"
     ]
    },
    {
     "name": "stdout",
     "output_type": "stream",
     "text": [
      "\n"
     ]
    },
    {
     "name": "stdout",
     "output_type": "stream",
     "text": [
      "Introduce el ID al que quieres consultar su información 1\n",
      "Introduzca la contraseña de id:1 AAAAAa1/\n"
     ]
    },
    {
     "name": "stdout",
     "output_type": "stream",
     "text": [
      "\n",
      "****************************************\n",
      "Nombre del cliente: Daniel\n",
      "Saldo del cliente: 10000.0\n",
      "Password del cliente: AAAAAa1/\n",
      "ID del cliente: 1\n",
      "****************************************\n",
      "\n",
      "\n",
      "========================================\n",
      "====     COMILLAS FINANCE S.L.     ====\n",
      "========================================\n",
      "1. Dar de alta clientes\n",
      "2. Cambiar password\n",
      "3. Consultar un cliente\n",
      "4. Operar\n",
      "5. Salvar/Carga diccionario a/de fichero\n",
      "6. Pintar gráfica balances\n",
      "7. Salir\n",
      "\n"
     ]
    },
    {
     "name": "stdout",
     "output_type": "stream",
     "text": [
      "Intro opción: ( 1 / 2 / 3 / 4 / 5 / 6 / 7) 3\n"
     ]
    },
    {
     "name": "stdout",
     "output_type": "stream",
     "text": [
      "\n"
     ]
    },
    {
     "name": "stdout",
     "output_type": "stream",
     "text": [
      "Introduce el ID al que quieres consultar su información 2\n",
      "Introduzca la contraseña de id:2 AAAAAa1/\n"
     ]
    },
    {
     "name": "stdout",
     "output_type": "stream",
     "text": [
      "\n",
      "****************************************\n",
      "Nombre del cliente: Paco\n",
      "Saldo del cliente: 2000.0\n",
      "Password del cliente: AAAAAa1/\n",
      "ID del cliente: 2\n",
      "****************************************\n",
      "\n",
      "\n",
      "========================================\n",
      "====     COMILLAS FINANCE S.L.     ====\n",
      "========================================\n",
      "1. Dar de alta clientes\n",
      "2. Cambiar password\n",
      "3. Consultar un cliente\n",
      "4. Operar\n",
      "5. Salvar/Carga diccionario a/de fichero\n",
      "6. Pintar gráfica balances\n",
      "7. Salir\n",
      "\n"
     ]
    },
    {
     "name": "stdout",
     "output_type": "stream",
     "text": [
      "Intro opción: ( 1 / 2 / 3 / 4 / 5 / 6 / 7) 4\n"
     ]
    },
    {
     "name": "stdout",
     "output_type": "stream",
     "text": [
      "\n",
      "\n",
      "########################################\n",
      "##########       OPERA        ##########\n",
      "########################################\n",
      "    A) Ingresar\n",
      "    B) Transferir\n",
      "\n"
     ]
    },
    {
     "name": "stdout",
     "output_type": "stream",
     "text": [
      "Seleccione una opción A\n",
      "Introduce el ID del cliente 1\n",
      "Introduce importe a ingresar 2000\n"
     ]
    },
    {
     "name": "stdout",
     "output_type": "stream",
     "text": [
      "Transferencia realizada con éxito\n",
      "\n",
      "========================================\n",
      "====     COMILLAS FINANCE S.L.     ====\n",
      "========================================\n",
      "1. Dar de alta clientes\n",
      "2. Cambiar password\n",
      "3. Consultar un cliente\n",
      "4. Operar\n",
      "5. Salvar/Carga diccionario a/de fichero\n",
      "6. Pintar gráfica balances\n",
      "7. Salir\n",
      "\n"
     ]
    },
    {
     "name": "stdout",
     "output_type": "stream",
     "text": [
      "Intro opción: ( 1 / 2 / 3 / 4 / 5 / 6 / 7) 3\n"
     ]
    },
    {
     "name": "stdout",
     "output_type": "stream",
     "text": [
      "\n"
     ]
    },
    {
     "name": "stdout",
     "output_type": "stream",
     "text": [
      "Introduce el ID al que quieres consultar su información 1\n",
      "Introduzca la contraseña de id:1 AAAAAa1/\n"
     ]
    },
    {
     "name": "stdout",
     "output_type": "stream",
     "text": [
      "\n",
      "****************************************\n",
      "Nombre del cliente: Daniel\n",
      "Saldo del cliente: 12000.0\n",
      "Password del cliente: AAAAAa1/\n",
      "ID del cliente: 1\n",
      "****************************************\n",
      "\n",
      "\n",
      "========================================\n",
      "====     COMILLAS FINANCE S.L.     ====\n",
      "========================================\n",
      "1. Dar de alta clientes\n",
      "2. Cambiar password\n",
      "3. Consultar un cliente\n",
      "4. Operar\n",
      "5. Salvar/Carga diccionario a/de fichero\n",
      "6. Pintar gráfica balances\n",
      "7. Salir\n",
      "\n"
     ]
    },
    {
     "name": "stdout",
     "output_type": "stream",
     "text": [
      "Intro opción: ( 1 / 2 / 3 / 4 / 5 / 6 / 7) 3\n"
     ]
    },
    {
     "name": "stdout",
     "output_type": "stream",
     "text": [
      "\n"
     ]
    },
    {
     "name": "stdout",
     "output_type": "stream",
     "text": [
      "Introduce el ID al que quieres consultar su información 2\n",
      "Introduzca la contraseña de id:2 AAAAAa1/\n"
     ]
    },
    {
     "name": "stdout",
     "output_type": "stream",
     "text": [
      "\n",
      "****************************************\n",
      "Nombre del cliente: Paco\n",
      "Saldo del cliente: 2000.0\n",
      "Password del cliente: AAAAAa1/\n",
      "ID del cliente: 2\n",
      "****************************************\n",
      "\n",
      "\n",
      "========================================\n",
      "====     COMILLAS FINANCE S.L.     ====\n",
      "========================================\n",
      "1. Dar de alta clientes\n",
      "2. Cambiar password\n",
      "3. Consultar un cliente\n",
      "4. Operar\n",
      "5. Salvar/Carga diccionario a/de fichero\n",
      "6. Pintar gráfica balances\n",
      "7. Salir\n",
      "\n"
     ]
    },
    {
     "name": "stdout",
     "output_type": "stream",
     "text": [
      "Intro opción: ( 1 / 2 / 3 / 4 / 5 / 6 / 7) 4\n"
     ]
    },
    {
     "name": "stdout",
     "output_type": "stream",
     "text": [
      "\n",
      "\n",
      "########################################\n",
      "##########       OPERA        ##########\n",
      "########################################\n",
      "    A) Ingresar\n",
      "    B) Transferir\n",
      "\n"
     ]
    },
    {
     "name": "stdout",
     "output_type": "stream",
     "text": [
      "Seleccione una opción b\n",
      "Introduce el ID del remitente: 1\n",
      "Introduce el ID del destino: 2\n",
      "Ingrese importe a transferir: 4000\n",
      "Introduzca la password del remitente: AAAAAa1/\n"
     ]
    },
    {
     "name": "stdout",
     "output_type": "stream",
     "text": [
      "Transferencia realizada con éxito\n",
      "\n",
      "========================================\n",
      "====     COMILLAS FINANCE S.L.     ====\n",
      "========================================\n",
      "1. Dar de alta clientes\n",
      "2. Cambiar password\n",
      "3. Consultar un cliente\n",
      "4. Operar\n",
      "5. Salvar/Carga diccionario a/de fichero\n",
      "6. Pintar gráfica balances\n",
      "7. Salir\n",
      "\n"
     ]
    },
    {
     "name": "stdout",
     "output_type": "stream",
     "text": [
      "Intro opción: ( 1 / 2 / 3 / 4 / 5 / 6 / 7) 5\n"
     ]
    },
    {
     "name": "stdout",
     "output_type": "stream",
     "text": [
      "\n",
      "\n",
      "########################################\n",
      "##########      OPCIONES      ##########\n",
      "########################################\n",
      "    1) Guardar clientes a fichero\n",
      "    2) Cargar clientes de fichero\n",
      "\n"
     ]
    },
    {
     "name": "stdout",
     "output_type": "stream",
     "text": [
      "Seleccione una opción: 1\n"
     ]
    },
    {
     "name": "stdout",
     "output_type": "stream",
     "text": [
      "Se ha cargado el archivo en la nube\n",
      "\n",
      "========================================\n",
      "====     COMILLAS FINANCE S.L.     ====\n",
      "========================================\n",
      "1. Dar de alta clientes\n",
      "2. Cambiar password\n",
      "3. Consultar un cliente\n",
      "4. Operar\n",
      "5. Salvar/Carga diccionario a/de fichero\n",
      "6. Pintar gráfica balances\n",
      "7. Salir\n",
      "\n"
     ]
    },
    {
     "name": "stdout",
     "output_type": "stream",
     "text": [
      "Intro opción: ( 1 / 2 / 3 / 4 / 5 / 6 / 7) 5\n"
     ]
    },
    {
     "name": "stdout",
     "output_type": "stream",
     "text": [
      "\n",
      "\n",
      "########################################\n",
      "##########      OPCIONES      ##########\n",
      "########################################\n",
      "    1) Guardar clientes a fichero\n",
      "    2) Cargar clientes de fichero\n",
      "\n"
     ]
    },
    {
     "name": "stdout",
     "output_type": "stream",
     "text": [
      "Seleccione una opción: 2\n"
     ]
    },
    {
     "name": "stdout",
     "output_type": "stream",
     "text": [
      "Se ha descargado el archivo de la nube\n",
      "\n",
      "========================================\n",
      "====     COMILLAS FINANCE S.L.     ====\n",
      "========================================\n",
      "1. Dar de alta clientes\n",
      "2. Cambiar password\n",
      "3. Consultar un cliente\n",
      "4. Operar\n",
      "5. Salvar/Carga diccionario a/de fichero\n",
      "6. Pintar gráfica balances\n",
      "7. Salir\n",
      "\n"
     ]
    },
    {
     "name": "stdout",
     "output_type": "stream",
     "text": [
      "Intro opción: ( 1 / 2 / 3 / 4 / 5 / 6 / 7) 6\n"
     ]
    },
    {
     "name": "stdout",
     "output_type": "stream",
     "text": [
      "\n"
     ]
    },
    {
     "data": {
      "image/png": "[encoded data removed]",
      "text/plain": [
       "<Figure size 640x480 with 1 Axes>"
      ]
     },
     "metadata": {},
     "output_type": "display_data"
    },
    {
     "name": "stdout",
     "output_type": "stream",
     "text": [
      "\n",
      "========================================\n",
      "====     COMILLAS FINANCE S.L.     ====\n",
      "========================================\n",
      "1. Dar de alta clientes\n",
      "2. Cambiar password\n",
      "3. Consultar un cliente\n",
      "4. Operar\n",
      "5. Salvar/Carga diccionario a/de fichero\n",
      "6. Pintar gráfica balances\n",
      "7. Salir\n",
      "\n"
     ]
    },
    {
     "name": "stdout",
     "output_type": "stream",
     "text": [
      "Intro opción: ( 1 / 2 / 3 / 4 / 5 / 6 / 7) 7\n"
     ]
    },
    {
     "name": "stdout",
     "output_type": "stream",
     "text": [
      "\n",
      "Gracias por utilizar la aplicación\n",
      "FIN\n"
     ]
    }
   ],
   "source": [
    "import random \n",
    "import pickle\n",
    "import matplotlib.pyplot as plt\n",
    "\n",
    "clientes = {}\n",
    "\n",
    "def Menu():\n",
    "    opc = 0\n",
    "    opcs = [\"1\",\"2\",\"3\",\"4\",\"5\",\"6\",\"7\"]\n",
    "    print(\"\")\n",
    "    print(\"=\" * 40)\n",
    "    print(\"====     COMILLAS FINANCE S.L.     ====\")\n",
    "    print(\"=\" * 40)\n",
    "    print(\"1. Dar de alta clientes\")\n",
    "    print(\"2. Cambiar password\")\n",
    "    print(\"3. Consultar un cliente\")\n",
    "    print(\"4. Operar\")\n",
    "    print(\"5. Salvar/Carga diccionario a/de fichero\")\n",
    "    print(\"6. Pintar gráfica balances\")\n",
    "    print(\"7. Salir\\n\")\n",
    "    \n",
    "    opc = input(\"Intro opción: ( 1 / 2 / 3 / 4 / 5 / 6 / 7)\")\n",
    "    while opc not in opcs:\n",
    "        print(\"Esa opción no existe\")\n",
    "        opc = input(\"Intro opción: ( 1 / 2 / 3 / 4 / 5 / 6 / 7)\")\n",
    "            \n",
    "    print(\"\")\n",
    "    return opc\n",
    "    \n",
    "def InsertaCli(dic_clientes, id):\n",
    "    if id in dic_clientes:\n",
    "        print(\"Error, la clave ya existe\")\n",
    "    else:\n",
    "        nombre = input(\"Introduzca el nombre del cliente:\")\n",
    "        saldo = float(input(\"Introduzca el saldo del cliente:\"))\n",
    "        while saldo < 0:\n",
    "            saldo = float(input(\"Introduzca el saldo del cliente:\"))\n",
    "        intentos = 1\n",
    "        print(f\"Intento {intentos} de 3\")\n",
    "        password = input(\"Introduzca una contraseña:\")\n",
    "        while Valida(password) == False:\n",
    "            print(f\"Intento {intentos} de 3\")\n",
    "            intentos += 1\n",
    "            if intentos < 4:\n",
    "                password = input(\"Introduzca una contraseña:\")\n",
    "            if intentos == 4:\n",
    "                print(\"Vamos a generar una password automática. Posteriormente podrás cambiarla\")\n",
    "                password = Genera()\n",
    "                print(f\"Esta es tu nueva password: {password}\")\n",
    "        dic_clientes[id] = [nombre,saldo,password]\n",
    "            \n",
    "    return\n",
    "    \n",
    "def Valida(password):\n",
    "    longitud = False\n",
    "    minuscula = False\n",
    "    mayuscula = False\n",
    "    numero = False\n",
    "    simbolo = False\n",
    "    correcto = False\n",
    "    if len(password) == 8:\n",
    "        longitud = True\n",
    "    else:\n",
    "        print(f\"La contraseña debe tener 8 caracteres, la tuya tiene {len(password)}\")\n",
    "    for x in password:\n",
    "        if x.islower():\n",
    "            minuscula = True\n",
    "    for x in password:\n",
    "        if x.isupper():\n",
    "            mayuscula = True\n",
    "    for x in password:\n",
    "        if x.isnumeric():\n",
    "            numero = True\n",
    "    for x in password:\n",
    "        if x.isalnum() == False and x != \" \":\n",
    "            simbolo = True\n",
    "    if longitud and minuscula and mayuscula and numero and simbolo:\n",
    "        correcto = True\n",
    "        \n",
    "    if not(minuscula):\n",
    "        print(\"Requisito minúscula KO\")\n",
    "    else:\n",
    "        print(\"Requisito minúscula OK\")\n",
    "    if not(mayuscula):\n",
    "        print(\"Requisito maysúcula KO\")\n",
    "    else:  \n",
    "        print(\"Requisito mayúscula OK\")\n",
    "    if not(numero):\n",
    "        print(\"Requisito número KO\")\n",
    "    else:\n",
    "        print(\"Requisito número OK\")\n",
    "    if not(simbolo):\n",
    "        print(\"Requisito símbolo KO\")\n",
    "    else:\n",
    "        print(\"Requisito símbolo OK\")\n",
    "        \n",
    "    return correcto\n",
    "    \n",
    "def Genera():\n",
    "    password = \"\"\n",
    "    letras = \"abcdefghijklmnopqrstuvwxyz\"\n",
    "    letras_mayus = \"ABCDEFGHIJKLMNOPQRSTUVWXYZ\"\n",
    "    numeros = \"0123456789\"\n",
    "    simbolos = \"!@#$%^&*()_+\"\n",
    "    for x in range(2):\n",
    "        password += letras[random.randint(0,25)]\n",
    "        password += letras_mayus[random.randint(0,25)]\n",
    "        password += numeros[random.randint(0,9)]\n",
    "        password += simbolos[random.randint(0,9)]\n",
    "    autpassword = random.sample(list(password), k=len(password))\n",
    "    autpassword = \"\".join(autpassword)\n",
    "    return autpassword\n",
    "    \n",
    "def Cambia(dic_clientes,id):\n",
    "    if id not in dic_clientes:\n",
    "        print(\"ERROR: La clave no está en el diccionario\")\n",
    "    else:\n",
    "        pin = random.randint(1000,9999)\n",
    "        file_name = str(dic_clientes[id][0])+str(id)+\".txt\"\n",
    "        file = open(file_name, \"w+\", encoding=\"utf8\")\n",
    "        file.write(str(pin))\n",
    "        file.close()\n",
    "        guess_pin = input(\"Introduzca el PIN\")\n",
    "        if guess_pin == str(pin):\n",
    "            print(\"PIN OK\")\n",
    "            password = input(\"Introduzca su nueva password\")\n",
    "            intentos = 1\n",
    "            while not Valida(password):\n",
    "                intentos += 1\n",
    "                if intentos <= 3:\n",
    "                    print(f\"\\nIntento {intentos} de 3\")\n",
    "                    password = input(\"Introduzca una contraseña:\")\n",
    "                if intentos == 4:\n",
    "                    print(\"\\nVamos a generar una password automática. Posteriormente podrás cambiarla\")\n",
    "                    password = Genera()\n",
    "                    print(f\"Esta es tu nueva password: {password}\")\n",
    "            dic_clientes[id][2] = password\n",
    "        else:\n",
    "            print(\"ERROR: PIN incorrecto,\\n Cancelando operación\")   \n",
    "    \n",
    "def Consulta(dic_clientes,id):\n",
    "    if id not in dic_clientes:\n",
    "        print(\"ERROR: La clave no está en el diccionario\")\n",
    "    else:\n",
    "        guess_password = input(f\"Introduzca la contraseña de id:{id}\")\n",
    "        if guess_password == dic_clientes[id][2]:\n",
    "            print(\"\")\n",
    "            print(\"*\"*40)\n",
    "            print(f\"Nombre del cliente: {dic_clientes[id][0]}\")\n",
    "            print(f\"Saldo del cliente: {dic_clientes[id][1]}\")\n",
    "            print(f\"Password del cliente: {dic_clientes[id][2]}\")\n",
    "            print(f\"ID del cliente: {id}\")\n",
    "            print(\"*\"*40)\n",
    "            print(\"\")\n",
    "            \n",
    "        else:\n",
    "            print(\"ERROR: El password no es correcto\")\n",
    "            \n",
    "    \n",
    "    return\n",
    "\n",
    "def Opera (dic_clientes):\n",
    "    estado = False\n",
    "    print(\"\\n\"+\"#\"*40)\n",
    "    print(\"#\"*10, end=\"\")\n",
    "    print(f\"{'OPERA':^20}\",end=\"\")\n",
    "    print(\"#\"*10)\n",
    "    print(\"#\"*40)\n",
    "    print(\"    A) Ingresar\")\n",
    "    print(\"    B) Transferir\\n\")\n",
    "    op = input(\"Seleccione una opción\").upper()\n",
    "    if op == \"A\":\n",
    "        id = int(input(\"Introduce el ID del cliente\"))\n",
    "        if id not in dic_clientes:\n",
    "            print(\"ERROR: La clave no está en el diccionario\")\n",
    "        else:\n",
    "            ingreso = float(input(\"Introduce importe a ingresar\"))\n",
    "            if ingreso >= 0:\n",
    "                dic_clientes[id][1] += ingreso\n",
    "                estado = True\n",
    "            else:\n",
    "                print(\"ERROR: El importe no puede ser negativo\")\n",
    "                \n",
    "    elif op == \"B\":\n",
    "        id_origen = int(input(\"Introduce el ID del remitente:\"))\n",
    "        if id_origen not in dic_clientes:\n",
    "            print(\"ERROR: La clave no está en el diccionario\")\n",
    "        else:\n",
    "            id_destino = int(input(\"Introduce el ID del destino:\"))\n",
    "            if id_destino not in dic_clientes:\n",
    "                print(\"ERROR: La clave no está en el diccionario\")\n",
    "            else:\n",
    "                transferencia = float(input(\"Ingrese importe a transferir:\"))\n",
    "                if dic_clientes[id_origen][1] < transferencia:\n",
    "                    print(\"ERROR: Saldo insuficiente\")\n",
    "                elif transferencia < 0:\n",
    "                    print(\"ERROR: El importe no puede ser negativo\")\n",
    "                else:\n",
    "                    guess_password = input(\"Introduzca la password del remitente:\")\n",
    "                    if guess_password != dic_clientes[id_origen][2]:\n",
    "                        print(\"ERROR: El password del remitente es incorrecto\")\n",
    "                    else:\n",
    "                        dic_clientes[id_origen][1] -= transferencia\n",
    "                        dic_clientes[id_destino][1] += transferencia\n",
    "                        with open(f\"SMS_from_{dic_clientes[id_origen][0]}_to_{dic_clientes[id_destino][0]}.txt\", \"w+\", encoding=\"utf8\") as sms:\n",
    "                            sms.write(\"Ha recibido una transferencia de \"+str(transferencia)+ \" euros, ordenada por \"+str(dic_clientes[id_origen][0])+ \" Info Comillas Finance S.L.\")\n",
    "                        estado = True\n",
    "    else:\n",
    "        print(\"ERROR: Esa opción no está entre las posibles\")\n",
    "    \n",
    "    return estado\n",
    "\n",
    "\n",
    "##Programa principal####\n",
    "\n",
    "#### Llamada a Menu\n",
    "opc = 0\n",
    "### bucle while\n",
    "while opc != 7:\n",
    "    try:\n",
    "        opc = int(Menu())\n",
    "        if opc == 1:\n",
    "            id = int(input(\"Introduce el ID que quieres insertar\"))\n",
    "            InsertaCli(clientes, id)\n",
    "            \n",
    "        if opc == 2:\n",
    "            id = int(input(\"Introduce el ID al que le quieres cambiar el password\"))\n",
    "            Cambia(clientes, id)\n",
    "            \n",
    "        if opc == 3:\n",
    "            id = int(input(\"Introduce el ID al que quieres consultar su información\"))\n",
    "            Consulta(clientes, id)\n",
    "            \n",
    "        if opc == 4:\n",
    "            if Opera(clientes):\n",
    "                print(\"Transferencia realizada con éxito\")\n",
    "            else:\n",
    "                print(\"Transferencia fallida, algo ha salido mal\")\n",
    "            \n",
    "        if opc == 5:\n",
    "            print(\"\\n\"+\"#\"*40)\n",
    "            print(\"#\"*10, end=\"\")\n",
    "            print(f\"{'OPCIONES':^20}\",end=\"\")\n",
    "            print(\"#\"*10)\n",
    "            print(\"#\"*40)\n",
    "            print(\"    1) Guardar clientes a fichero\")\n",
    "            print(\"    2) Cargar clientes de fichero\\n\")\n",
    "            op = int(input(\"Seleccione una opción:\"))\n",
    "            if op == 1:\n",
    "                with open(\"Clientesbanco.dat\", \"wb\") as fichero:\n",
    "                    pickle.dump(clientes, fichero)\n",
    "                    print(\"Se ha cargado el archivo en la nube\")\n",
    "            elif op == 2:\n",
    "                with open(\"Clientesbanco.dat\", \"rb\") as fichero:\n",
    "                    print(\"Se ha descargado el archivo de la nube\")\n",
    "                    clientes = pickle.load(fichero)\n",
    "    \n",
    "        if opc == 6:\n",
    "            values = clientes.values()\n",
    "            nombres = []\n",
    "            saldos = []\n",
    "            for value in values:\n",
    "                nombres.append(value[0])\n",
    "                saldos.append(value[1])\n",
    "            plt.bar(nombres, saldos)\n",
    "            plt.ylabel(\"SALDOS EN €\")\n",
    "            plt.xlabel(\"CLIENTES\")\n",
    "            plt.show()\n",
    "            \n",
    "            \n",
    "        if opc == 7:\n",
    "           print(\"Gracias por utilizar la aplicación\\nFIN\")\n",
    "    except:\n",
    "        print(\"Se ha producido un error inesperado, prueba de nuevo\")"
   ]
  }
 ],
 "metadata": {
  "kernelspec": {
   "display_name": "Python 3 (ipykernel)",
   "language": "python",
   "name": "python3"
  },
  "language_info": {
   "codemirror_mode": {
    "name": "ipython",
    "version": 3
   },
   "file_extension": ".py",
   "mimetype": "text/x-python",
   "name": "python",
   "nbconvert_exporter": "python",
   "pygments_lexer": "ipython3",
   "version": "3.12.4"
  }
 },
 "nbformat": 4,
 "nbformat_minor": 5
}
